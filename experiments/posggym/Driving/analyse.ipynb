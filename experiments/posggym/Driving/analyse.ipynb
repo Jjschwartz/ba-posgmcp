{
 "cells": [
  {
   "cell_type": "code",
   "execution_count": 1,
   "id": "f8fa3ca7",
   "metadata": {},
   "outputs": [],
   "source": [
    "import os.path as osp\n",
    "\n",
    "import pandas\n",
    "import numpy as np\n",
    "import matplotlib\n",
    "import matplotlib.pyplot as plt\n",
    "\n",
    "import exp_utils"
   ]
  },
  {
   "cell_type": "code",
   "execution_count": 2,
   "id": "7f98e376",
   "metadata": {},
   "outputs": [],
   "source": [
    "# ref: https://matplotlib.org/stable/gallery/images_contours_and_fields/image_annotated_heatmap.html\n",
    "\n",
    "def heatmap(data, row_labels, col_labels, ax=None,\n",
    "            cbar_kw={}, cbarlabel=\"\", **kwargs):\n",
    "    \"\"\"\n",
    "    Create a heatmap from a numpy array and two lists of labels.\n",
    "\n",
    "    Parameters\n",
    "    ----------\n",
    "    data\n",
    "        A 2D numpy array of shape (M, N).\n",
    "    row_labels\n",
    "        A list or array of length M with the labels for the rows.\n",
    "    col_labels\n",
    "        A list or array of length N with the labels for the columns.\n",
    "    ax\n",
    "        A `matplotlib.axes.Axes` instance to which the heatmap is plotted.  If\n",
    "        not provided, use current axes or create a new one.  Optional.\n",
    "    cbar_kw\n",
    "        A dictionary with arguments to `matplotlib.Figure.colorbar`.  Optional.\n",
    "    cbarlabel\n",
    "        The label for the colorbar.  Optional.\n",
    "    **kwargs\n",
    "        All other arguments are forwarded to `imshow`.\n",
    "    \"\"\"\n",
    "\n",
    "    if not ax:\n",
    "        ax = plt.gca()\n",
    "\n",
    "    # Plot the heatmap\n",
    "    im = ax.imshow(data, **kwargs)\n",
    "\n",
    "    # Create colorbar\n",
    "    cbar = ax.figure.colorbar(im, ax=ax, **cbar_kw)\n",
    "    cbar.ax.set_ylabel(cbarlabel, rotation=-90, va=\"bottom\")\n",
    "\n",
    "    # Show all ticks and label them with the respective list entries.\n",
    "    ax.set_xticks(np.arange(data.shape[1]), labels=col_labels)\n",
    "    ax.set_yticks(np.arange(data.shape[0]), labels=row_labels)\n",
    "\n",
    "    # Let the horizontal axes labeling appear on top.\n",
    "    ax.tick_params(top=True, bottom=False,\n",
    "                   labeltop=True, labelbottom=False)\n",
    "\n",
    "    # Rotate the tick labels and set their alignment.\n",
    "    plt.setp(ax.get_xticklabels(), rotation=-30, ha=\"right\",\n",
    "             rotation_mode=\"anchor\")\n",
    "\n",
    "    # Turn spines off and create white grid.\n",
    "    ax.spines[:].set_visible(False)\n",
    "\n",
    "    ax.set_xticks(np.arange(data.shape[1]+1)-.5, minor=True)\n",
    "    ax.set_yticks(np.arange(data.shape[0]+1)-.5, minor=True)\n",
    "    ax.grid(which=\"minor\", color=\"w\", linestyle='-', linewidth=3)\n",
    "    ax.tick_params(which=\"minor\", bottom=False, left=False)\n",
    "\n",
    "    return im, cbar\n",
    "\n",
    "\n",
    "def annotate_heatmap(im, data=None, valfmt=\"{x:.2f}\",\n",
    "                     textcolors=(\"black\", \"white\"),\n",
    "                     threshold=None, **textkw):\n",
    "    \"\"\"\n",
    "    A function to annotate a heatmap.\n",
    "\n",
    "    Parameters\n",
    "    ----------\n",
    "    im\n",
    "        The AxesImage to be labeled.\n",
    "    data\n",
    "        Data used to annotate.  If None, the image's data is used.  Optional.\n",
    "    valfmt\n",
    "        The format of the annotations inside the heatmap.  This should either\n",
    "        use the string format method, e.g. \"$ {x:.2f}\", or be a\n",
    "        `matplotlib.ticker.Formatter`.  Optional.\n",
    "    textcolors\n",
    "        A pair of colors.  The first is used for values below a threshold,\n",
    "        the second for those above.  Optional.\n",
    "    threshold\n",
    "        Value in data units according to which the colors from textcolors are\n",
    "        applied.  If None (the default) uses the middle of the colormap as\n",
    "        separation.  Optional.\n",
    "    **kwargs\n",
    "        All other arguments are forwarded to each call to `text` used to create\n",
    "        the text labels.\n",
    "    \"\"\"\n",
    "\n",
    "    if not isinstance(data, (list, np.ndarray)):\n",
    "        data = im.get_array()\n",
    "\n",
    "    # Normalize the threshold to the images color range.\n",
    "    if threshold is not None:\n",
    "        threshold = im.norm(threshold)\n",
    "    else:\n",
    "        threshold = im.norm(data.max())/2.\n",
    "\n",
    "    # Set default alignment to center, but allow it to be\n",
    "    # overwritten by textkw.\n",
    "    kw = dict(horizontalalignment=\"center\",\n",
    "              verticalalignment=\"center\")\n",
    "    kw.update(textkw)\n",
    "\n",
    "    # Get the formatter in case a string is supplied\n",
    "    if isinstance(valfmt, str):\n",
    "        valfmt = matplotlib.ticker.StrMethodFormatter(valfmt)\n",
    "\n",
    "    # Loop over the data and create a `Text` for each \"pixel\".\n",
    "    # Change the text's color depending on the data.\n",
    "    texts = []\n",
    "    for i in range(data.shape[0]):\n",
    "        for j in range(data.shape[1]):\n",
    "            kw.update(color=textcolors[int(im.norm(data[i, j]) > threshold)])\n",
    "            text = im.axes.text(j, i, valfmt(data[i, j], None), **kw)\n",
    "            texts.append(text)\n",
    "\n",
    "    return texts"
   ]
  },
  {
   "cell_type": "code",
   "execution_count": 54,
   "id": "0b156192",
   "metadata": {},
   "outputs": [],
   "source": [
    "rl_policies_results_dir_name = '2022-05-01 10:59:33.195941'\n",
    "rl_policies_results_file = osp.join(exp_utils.EXP_RESULTS_DIR, rl_policies_results_dir_name, \"compiled_results.csv\")\n",
    "rl_pw_df = pandas.read_csv(rl_policies_results_file)\n",
    "\n",
    "baposgmcp_results_dir_name = '2022-05-01 08:38:52.595444'\n",
    "baposgmcp_results_file = osp.join(exp_utils.EXP_RESULTS_DIR, baposgmcp_results_dir_name, \"compiled_results.csv\")\n",
    "baposgmcp_pw_df = pandas.read_csv(baposgmcp_results_file)\n",
    "\n",
    "columns_to_drop = [\n",
    "    'Unnamed: 0', 'env_name', 'episode_step_limit', 'time_limit', \n",
    "    'search_time_mean', 'search_time_std', 'update_time_mean', 'update_time_std',\n",
    "    'reinvigoration_time_mean', 'reinvigoration_time_std', 'policy_calls_mean', \n",
    "    'policy_calls_std', 'inference_time_mean', 'inference_time_std',\n",
    "    'episode_dones', 'num_outcome_LOSS', 'num_outcome_DRAW', 'num_outcome_WIN', \n",
    "    'num_outcome_NA'\n",
    "]\n",
    "rl_pw_df = rl_pw_df.drop(columns_to_drop, axis=1)\n",
    "baposgmcp_pw_df = baposgmcp_pw_df.drop(columns_to_drop, axis=1)"
   ]
  },
  {
   "cell_type": "code",
   "execution_count": 55,
   "id": "d7323dc1",
   "metadata": {},
   "outputs": [
    {
     "data": {
      "text/plain": [
       "Index(['exp_id', 'agent_id', 'seed', 'num_episodes', 'policy_name',\n",
       "       'policy_id', 'episode_returns_mean', 'episode_returns_std',\n",
       "       'episode_returns_max', 'episode_returns_min',\n",
       "       'episode_discounted_returns_mean', 'episode_discounted_returns_std',\n",
       "       'episode_discounted_returns_max', 'episode_discounted_returns_min',\n",
       "       'episode_steps_mean', 'episode_steps_std', 'episode_times_mean',\n",
       "       'episode_times_std'],\n",
       "      dtype='object')"
      ]
     },
     "execution_count": 55,
     "metadata": {},
     "output_type": "execute_result"
    }
   ],
   "source": [
    "rl_pw_df.columns"
   ]
  },
  {
   "cell_type": "code",
   "execution_count": 56,
   "id": "8a6b8e8d",
   "metadata": {},
   "outputs": [],
   "source": [
    "def get_k(row):\n",
    "    pi_name = row[\"policy_name\"]\n",
    "    if \"Random\" in pi_name:\n",
    "        return str(-1)\n",
    "    if \"BAPOSGMCP\" in pi_name:\n",
    "        return \"BA\"\n",
    "    try:\n",
    "        return pi_name.split(\"_\")[-1]\n",
    "    except Exception:\n",
    "        raise Exception(\"Policy name error\")\n",
    "\n",
    "rl_pw_df[\"K\"] = rl_pw_df.apply(get_k, axis=1)\n",
    "baposgmcp_pw_df[\"K\"] = baposgmcp_pw_df.apply(get_k, axis=1)"
   ]
  },
  {
   "cell_type": "code",
   "execution_count": 57,
   "id": "79fb8f3e",
   "metadata": {},
   "outputs": [],
   "source": [
    "def get_rl_pw_returns():\n",
    "    agent_ids = rl_pw_df[\"agent_id\"].unique()\n",
    "    agent_ids.sort()\n",
    "    k_levels = rl_pw_df[\"K\"].unique()\n",
    "    k_levels.sort()\n",
    "\n",
    "    pw_returns = np.zeros((len(k_levels), len(k_levels)))\n",
    "    row_agent = agent_ids[0]\n",
    "    col_agent = agent_ids[1]\n",
    "\n",
    "    for c, col_k in enumerate(k_levels):\n",
    "        col_agent_exp_ids = rl_pw_df[(rl_pw_df[\"agent_id\"] == col_agent) & (rl_pw_df[\"K\"] == col_k)][\"exp_id\"]\n",
    "        for r, row_k in enumerate(reversed(k_levels)):\n",
    "            pw_returns[r][c] = rl_pw_df[\n",
    "                (rl_pw_df[\"agent_id\"] == row_agent) \n",
    "                & (rl_pw_df[\"K\"] == row_k)\n",
    "                & (rl_pw_df[\"exp_id\"].isin(col_agent_exp_ids))\n",
    "            ][\"episode_returns_mean\"]\n",
    "    \n",
    "    return k_levels, pw_returns"
   ]
  },
  {
   "cell_type": "code",
   "execution_count": 72,
   "id": "fca2d1b4",
   "metadata": {},
   "outputs": [
    {
     "name": "stdout",
     "output_type": "stream",
     "text": [
      "k_levels=array(['-1', '0', '1', 'BR'], dtype=object)\n",
      "pw_returns:\n",
      "[[20. 29. 24.  9.]\n",
      " [19. 27. 31. 27.]\n",
      " [28. 25. 34. 16.]\n",
      " [-3. -2. -3.  1.]]\n"
     ]
    },
    {
     "data": {
      "image/png": "[encoded data removed]",
      "text/plain": [
       "<Figure size 432x288 with 2 Axes>"
      ]
     },
     "metadata": {
      "needs_background": "light"
     },
     "output_type": "display_data"
    }
   ],
   "source": [
    "k_levels, pw_returns = get_rl_pw_returns()\n",
    "print(f\"{k_levels=}\")\n",
    "print(f\"pw_returns:\\n{pw_returns}\")\n",
    "\n",
    "fig, ax = plt.subplots()\n",
    "im, cbar = heatmap(\n",
    "    data=pw_returns, \n",
    "    row_labels=reversed(k_levels),\n",
    "    col_labels=k_levels,\n",
    "    ax=ax,\n",
    "    cmap=\"viridis\",\n",
    "    cbarlabel=\"mean return (row agent)\"\n",
    ")\n",
    "texts = annotate_heatmap(\n",
    "    im, \n",
    "    valfmt=\"{x:.2f}\",\n",
    "    textcolors=(\"white\", \"black\")\n",
    ")\n",
    "\n",
    "fig.tight_layout()\n",
    "fig.savefig(osp.join(exp_utils.EXP_BASE_DIR, \"figures\", \"pw_rl_performance.png\"))\n",
    "plt.show()"
   ]
  },
  {
   "cell_type": "code",
   "execution_count": 71,
   "id": "1dc4d80f",
   "metadata": {},
   "outputs": [
    {
     "data": {
      "image/png": "[encoded data removed]",
      "text/plain": [
       "<Figure size 432x288 with 2 Axes>"
      ]
     },
     "metadata": {
      "needs_background": "light"
     },
     "output_type": "display_data"
    }
   ],
   "source": [
    "agent_ids = baposgmcp_pw_df[\"agent_id\"].unique()\n",
    "agent_ids.sort()\n",
    "k_levels = baposgmcp_pw_df[\"K\"].unique()\n",
    "k_levels.sort()\n",
    "\n",
    "fig, axs = plt.subplots(2)\n",
    "for i, agent_id in enumerate(agent_ids):\n",
    "    opp_id = (agent_id + 1) % 2\n",
    "    ax = axs[i]\n",
    "    agent_df = baposgmcp_pw_df[baposgmcp_pw_df[\"agent_id\"] == agent_id]\n",
    "    exp_ids = agent_df[agent_df[\"K\"] == \"BA\"][\"exp_id\"]\n",
    "    x = []\n",
    "    y = []\n",
    "    for k in k_levels:\n",
    "        if k == \"BA\":\n",
    "            continue\n",
    "        opp_df = baposgmcp_pw_df[\n",
    "            (baposgmcp_pw_df[\"agent_id\"] == opp_id) \n",
    "            & (baposgmcp_pw_df[\"exp_id\"].isin(exp_ids))\n",
    "            & (baposgmcp_pw_df[\"K\"] == k)\n",
    "        ]\n",
    "        x.append(k)\n",
    "        y.append(opp_df[\"episode_returns_mean\"])\n",
    "    \n",
    "    ax.plot(x, y)\n",
    "    ax.set_xticks(x)\n",
    "    ax.set_xlabel(\"Opponent reasoning level\")\n",
    "    ax.set_ylabel(\"Mean return\")\n",
    "    ax.set_title(f\"Agent {agent_id}\")\n",
    "    ax.set_ylim(-1, 35)\n",
    "    \n",
    "fig.suptitle(\"BAPOSGMCP performance versus RL policies\")\n",
    "fig.tight_layout()\n",
    "fig.savefig(osp.join(exp_utils.EXP_BASE_DIR, \"figures\", \"pw_baposgmcp_performance.png\"))\n",
    "plt.show()"
   ]
  },
  {
   "cell_type": "code",
   "execution_count": 75,
   "id": "50a7c7ac",
   "metadata": {},
   "outputs": [
    {
     "name": "stdout",
     "output_type": "stream",
     "text": [
      "rl_k_levels=['-1', '0', '1', 'BR']\n",
      "rl_pw_returns=array([[20., 29., 24.,  9.],\n",
      "       [19., 27., 31., 27.],\n",
      "       [28., 25., 34., 16.],\n",
      "       [-3., -2., -3.,  1.]])\n",
      "ba_k_levels=array(['-1', '0', '1', 'BA', 'BR'], dtype=object)\n"
     ]
    },
    {
     "data": {
      "image/png": "[encoded data removed]",
      "text/plain": [
       "<Figure size 432x288 with 2 Axes>"
      ]
     },
     "metadata": {
      "needs_background": "light"
     },
     "output_type": "display_data"
    }
   ],
   "source": [
    "rl_k_levels, rl_pw_returns = get_rl_pw_returns()\n",
    "rl_k_levels = rl_k_levels.tolist()\n",
    "print(f\"{rl_k_levels=}\")\n",
    "print(f\"{rl_pw_returns=}\")\n",
    "row_rl_k_levels = list(reversed(rl_k_levels))\n",
    "\n",
    "agent_ids = baposgmcp_pw_df[\"agent_id\"].unique()\n",
    "agent_ids.sort()\n",
    "ba_k_levels = baposgmcp_pw_df[\"K\"].unique()\n",
    "ba_k_levels.sort()\n",
    "print(f\"{ba_k_levels=}\")\n",
    "\n",
    "all_pw_returns = np.zeros((len(ba_k_levels), len(ba_k_levels)))\n",
    "row_agent = agent_ids[0]\n",
    "col_agent = agent_ids[1]\n",
    "\n",
    "for c, col_k in enumerate(ba_k_levels):\n",
    "    for r, row_k in enumerate(reversed(ba_k_levels)):\n",
    "        if row_k == \"BA\" and col_k == \"BA\":\n",
    "            continue\n",
    "        elif row_k != \"BA\" and col_k != \"BA\":\n",
    "            # copy result from RL pairwise result\n",
    "            row_k_idx = row_rl_k_levels.index(row_k)\n",
    "            col_k_idx = rl_k_levels.index(col_k)\n",
    "            all_pw_returns[r][c] = rl_pw_returns[row_k_idx][col_k_idx]\n",
    "        else:\n",
    "            # get result from BAPOSGMCP dataframe\n",
    "            col_agent_exp_ids = baposgmcp_pw_df[\n",
    "                (baposgmcp_pw_df[\"agent_id\"] == col_agent) \n",
    "                & (baposgmcp_pw_df[\"K\"] == col_k)\n",
    "            ][\"exp_id\"]\n",
    "        \n",
    "            all_pw_returns[r][c] = baposgmcp_pw_df[\n",
    "                (baposgmcp_pw_df[\"agent_id\"] == row_agent) \n",
    "                & (baposgmcp_pw_df[\"K\"] == row_k)\n",
    "                & (baposgmcp_pw_df[\"exp_id\"].isin(col_agent_exp_ids))\n",
    "            ][\"episode_returns_mean\"]\n",
    "\n",
    "        \n",
    "fig, ax = plt.subplots()\n",
    "im, cbar = heatmap(\n",
    "    data=all_pw_returns, \n",
    "    row_labels=reversed(ba_k_levels),\n",
    "    col_labels=ba_k_levels,\n",
    "    ax=ax,\n",
    "    cmap=\"viridis\",\n",
    "    cbarlabel=\"mean return (row agent)\"\n",
    ")\n",
    "texts = annotate_heatmap(\n",
    "    im, \n",
    "    valfmt=\"{x:.2f}\",\n",
    "    textcolors=(\"white\", \"black\")\n",
    ")\n",
    "\n",
    "fig.tight_layout()\n",
    "fig.savefig(osp.join(exp_utils.EXP_BASE_DIR, \"figures\", \"all_pw_performance.png\"))\n",
    "plt.show()"
   ]
  }
 ],
 "metadata": {
  "kernelspec": {
   "display_name": "ba-posgmcp",
   "language": "python",
   "name": "ba-posgmcp"
  },
  "language_info": {
   "codemirror_mode": {
    "name": "ipython",
    "version": 3
   },
   "file_extension": ".py",
   "mimetype": "text/x-python",
   "name": "python",
   "nbconvert_exporter": "python",
   "pygments_lexer": "ipython3",
   "version": "3.9.7"
  }
 },
 "nbformat": 4,
 "nbformat_minor": 5
}
