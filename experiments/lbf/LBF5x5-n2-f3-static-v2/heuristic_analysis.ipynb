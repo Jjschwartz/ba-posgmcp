{
 "cells": [
  {
   "cell_type": "markdown",
   "id": "d7534431",
   "metadata": {},
   "source": [
    "# LBF5x5-n2-f3-static-v2 Heuristic policies analysis "
   ]
  },
  {
   "cell_type": "code",
   "execution_count": 1,
   "id": "f8fa3ca7",
   "metadata": {},
   "outputs": [],
   "source": [
    "import os.path as osp\n",
    "from typing import List, Any, Optional, Tuple, Callable\n",
    "from itertools import permutations, product\n",
    "\n",
    "import numpy as np\n",
    "import pandas as pd\n",
    "import matplotlib.pyplot as plt\n",
    "\n",
    "import posggym_agents\n",
    "import posggym_agents.exp.plot_utils as policy_plot_utils\n",
    "\n",
    "from baposgmcp.run import plot_utils\n",
    "from baposgmcp.config import BASE_REPO_DIR\n",
    "\n",
    "baposgmcp_results_file = osp.join(\n",
    "    BASE_REPO_DIR, \"experiments\", \"lbf\", \"LBF5x5-n2-f3-static-v2\", \"results\", \"heuristic_results.csv\"\n",
    ")\n",
    "policy_results_file = osp.join(\n",
    "    posggym_agents.config.BASE_DIR, 'agents', \"lbf5x5_n2_f3_static_v2\", \"results\", \"heuristic_pairwise_results.csv\"\n",
    ")"
   ]
  },
  {
   "cell_type": "markdown",
   "id": "6db66886",
   "metadata": {},
   "source": [
    "## Loading Heuristic Policy Data"
   ]
  },
  {
   "cell_type": "code",
   "execution_count": 2,
   "id": "23eebf22",
   "metadata": {},
   "outputs": [
    {
     "name": "stdout",
     "output_type": "stream",
     "text": [
      "['heuristic1-v0', 'heuristic2-v0', 'heuristic3-v0', 'heuristic4-v0']\n"
     ]
    }
   ],
   "source": [
    "policy_df = plot_utils.import_results(\n",
    "    policy_results_file, clean_policy_id=True\n",
    ")\n",
    "policy_df.columns\n",
    "\n",
    "policy_ids = policy_df[\"policy_id\"].unique().tolist()\n",
    "policy_ids.sort()\n",
    "print(policy_ids)"
   ]
  },
  {
   "cell_type": "markdown",
   "id": "3e7c2638",
   "metadata": {},
   "source": [
    "## Loading BAPOSGMCP Data"
   ]
  },
  {
   "cell_type": "code",
   "execution_count": 3,
   "id": "4509a003",
   "metadata": {
    "scrolled": true
   },
   "outputs": [
    {
     "name": "stdout",
     "output_type": "stream",
     "text": [
      "['heuristic1-v0', 'heuristic2-v0', 'heuristic3-v0', 'heuristic4-v0', 'pi_baposgmcp']\n",
      "Unnamed: 0\n",
      "exp_id\n",
      "agent_id\n",
      "env_name\n",
      "exp_seed\n",
      "num_episodes\n",
      "time_limit\n",
      "episode_step_limit\n",
      "policy_id\n",
      "c_init\n",
      "c_base\n",
      "truncated\n",
      "extra_particles_prop\n",
      "step_limit\n",
      "epsilon\n",
      "discount\n",
      "other_policy_ids\n",
      "other_policy_dist\n",
      "meta_policy_ids\n",
      "meta_policy_dict\n",
      "reinvigorator\n",
      "num_sims\n",
      "search_time_mean\n",
      "search_time_std\n",
      "update_time_mean\n",
      "update_time_std\n",
      "reinvigoration_time_mean\n",
      "reinvigoration_time_std\n",
      "policy_calls_mean\n",
      "policy_calls_std\n",
      "inference_time_mean\n",
      "inference_time_std\n",
      "search_depth_mean\n",
      "search_depth_std\n",
      "episode_returns_mean\n",
      "episode_returns_std\n",
      "episode_returns_max\n",
      "episode_returns_min\n",
      "episode_discounted_returns_mean\n",
      "episode_discounted_returns_std\n",
      "episode_discounted_returns_max\n",
      "episode_discounted_returns_min\n",
      "episode_steps_mean\n",
      "episode_steps_std\n",
      "episode_times_mean\n",
      "episode_times_std\n",
      "episode_dones\n",
      "num_outcome_LOSS\n",
      "num_outcome_DRAW\n",
      "num_outcome_WIN\n",
      "num_outcome_NA\n",
      "search_time_CI\n",
      "update_time_CI\n",
      "reinvigoration_time_CI\n",
      "policy_calls_CI\n",
      "inference_time_CI\n",
      "search_depth_CI\n",
      "episode_returns_CI\n",
      "episode_discounted_returns_CI\n",
      "episode_steps_CI\n",
      "episode_times_CI\n",
      "prop_LOSS\n",
      "prop_DRAW\n",
      "prop_WIN\n",
      "prop_NA\n"
     ]
    }
   ],
   "source": [
    "baposgmcp_df = plot_utils.import_results(\n",
    "    baposgmcp_results_file, clean_policy_id=True\n",
    ")\n",
    "policy_ids = baposgmcp_df[\"policy_id\"].unique().tolist()\n",
    "policy_ids.sort()\n",
    "print(policy_ids)\n",
    "\n",
    "for c in baposgmcp_df.columns:\n",
    "    print(c)"
   ]
  },
  {
   "cell_type": "code",
   "execution_count": 4,
   "id": "fe490237",
   "metadata": {},
   "outputs": [
    {
     "name": "stdout",
     "output_type": "stream",
     "text": [
      "['baposgmcp_16', 'baposgmcp_64', 'heuristic1-v0', 'heuristic2-v0', 'heuristic3-v0', 'heuristic4-v0']\n"
     ]
    }
   ],
   "source": [
    "# Update BAPOSGMCP policy ID to include num sims\n",
    "\n",
    "def add_num_sims_to_id(row):\n",
    "    if row[\"policy_id\"] == \"pi_baposgmcp\":\n",
    "        return \"baposgmcp_\" + row[\"num_sims\"]\n",
    "    return row[\"policy_id\"]\n",
    "\n",
    "baposgmcp_df[\"policy_id\"] = baposgmcp_df.apply(add_num_sims_to_id, axis=1)\n",
    "policy_ids = baposgmcp_df[\"policy_id\"].unique().tolist()\n",
    "policy_ids.sort()\n",
    "print(policy_ids)"
   ]
  },
  {
   "cell_type": "markdown",
   "id": "5bea9073",
   "metadata": {},
   "source": [
    "## Combine data"
   ]
  },
  {
   "cell_type": "code",
   "execution_count": 5,
   "id": "300963e4",
   "metadata": {},
   "outputs": [
    {
     "name": "stdout",
     "output_type": "stream",
     "text": [
      "['baposgmcp_16', 'baposgmcp_64', 'heuristic1-v0', 'heuristic2-v0', 'heuristic3-v0', 'heuristic4-v0']\n",
      "Unnamed: 0\n",
      "exp_id\n",
      "agent_id\n",
      "env_name\n",
      "exp_seed\n",
      "num_episodes\n",
      "time_limit\n",
      "episode_step_limit\n",
      "policy_id\n",
      "c_init\n",
      "c_base\n",
      "truncated\n",
      "extra_particles_prop\n",
      "step_limit\n",
      "epsilon\n",
      "discount\n",
      "other_policy_ids\n",
      "other_policy_dist\n",
      "meta_policy_ids\n",
      "meta_policy_dict\n",
      "reinvigorator\n",
      "num_sims\n",
      "search_time_mean\n",
      "search_time_std\n",
      "update_time_mean\n",
      "update_time_std\n",
      "reinvigoration_time_mean\n",
      "reinvigoration_time_std\n",
      "policy_calls_mean\n",
      "policy_calls_std\n",
      "inference_time_mean\n",
      "inference_time_std\n",
      "search_depth_mean\n",
      "search_depth_std\n",
      "episode_returns_mean\n",
      "episode_returns_std\n",
      "episode_returns_max\n",
      "episode_returns_min\n",
      "episode_discounted_returns_mean\n",
      "episode_discounted_returns_std\n",
      "episode_discounted_returns_max\n",
      "episode_discounted_returns_min\n",
      "episode_steps_mean\n",
      "episode_steps_std\n",
      "episode_times_mean\n",
      "episode_times_std\n",
      "episode_dones\n",
      "num_outcome_LOSS\n",
      "num_outcome_DRAW\n",
      "num_outcome_WIN\n",
      "num_outcome_NA\n",
      "search_time_CI\n",
      "update_time_CI\n",
      "reinvigoration_time_CI\n",
      "policy_calls_CI\n",
      "inference_time_CI\n",
      "search_depth_CI\n",
      "episode_returns_CI\n",
      "episode_discounted_returns_CI\n",
      "episode_steps_CI\n",
      "episode_times_CI\n",
      "prop_LOSS\n",
      "prop_DRAW\n",
      "prop_WIN\n",
      "prop_NA\n"
     ]
    }
   ],
   "source": [
    "# First need to update exp_ids of one dataframe so there are no duplicate exp_ids\n",
    "df1 = baposgmcp_df\n",
    "df2 = policy_df\n",
    "\n",
    "df1_max_exp_id = df1[\"exp_id\"].max()\n",
    "if df2[\"exp_id\"].min() <= df1_max_exp_id:\n",
    "    df2[\"exp_id\"] += df1_max_exp_id+1\n",
    "\n",
    "combined_df = pd.concat([baposgmcp_df, policy_df]).reset_index(drop = True)\n",
    "    \n",
    "policy_ids = combined_df[\"policy_id\"].unique().tolist()\n",
    "policy_ids.sort()\n",
    "print(policy_ids)\n",
    "\n",
    "for c in combined_df.columns:\n",
    "    print(c)"
   ]
  },
  {
   "cell_type": "markdown",
   "id": "3e545c59",
   "metadata": {},
   "source": [
    "## Pairwise performance by number of simulations\n",
    "\n",
    "Here we look at the performance of each policy against each other policy including BAPOSGMCP using different number of simulations."
   ]
  },
  {
   "cell_type": "code",
   "execution_count": 6,
   "id": "4a0f6971",
   "metadata": {},
   "outputs": [
    {
     "name": "stderr",
     "output_type": "stream",
     "text": [
      "<__array_function__ internals>:180: UserWarning: Warning: converting a masked element to nan.\n",
      "/home/jonathon/miniconda3/envs/ba-posgmcp/lib/python3.8/site-packages/matplotlib/colors.py:1211: UserWarning: Warning: converting a masked element to nan.\n",
      "  data = np.asarray(value)\n"
     ]
    },
    {
     "data": {
      "image/png": "[encoded data removed]",
      "text/plain": [
       "<Figure size 864x1152 with 2 Axes>"
      ]
     },
     "metadata": {
      "needs_background": "light"
     },
     "output_type": "display_data"
    }
   ],
   "source": [
    "plot_utils.plot_pairwise_comparison(\n",
    "    combined_df,\n",
    "    # baposgmcp_df,\n",
    "    y_key=\"episode_returns_mean\", \n",
    "    policy_key=\"policy_id\",\n",
    "    y_err_key=\"episode_returns_CI\",\n",
    "    vrange=None, \n",
    "    figsize=(12, 16), \n",
    "    valfmt=\"{x:.2f}\",\n",
    "    average_duplicates=True,\n",
    "    duplicate_warning=False\n",
    ")"
   ]
  },
  {
   "cell_type": "markdown",
   "id": "57fe7ed2",
   "metadata": {},
   "source": [
    "## Policy Prior Performance\n",
    "\n",
    "Here we look at the expected performance against the policy prior of BAPOSGMCP."
   ]
  },
  {
   "cell_type": "code",
   "execution_count": 8,
   "id": "52483233",
   "metadata": {},
   "outputs": [
    {
     "name": "stdout",
     "output_type": "stream",
     "text": [
      "baposgmcp_16 = 0.53 +/- 0.06\n",
      "baposgmcp_64 = 0.60 +/- 0.06\n",
      "heuristic1-v0 = 0.60 +/- 0.02\n",
      "heuristic2-v0 = 0.42 +/- 0.02\n",
      "heuristic3-v0 = 0.47 +/- 0.02\n",
      "heuristic4-v0 = 0.36 +/- 0.02\n"
     ]
    }
   ],
   "source": [
    "# TODO check I'm adding confidence intervals correctly\n",
    "\n",
    "policy_prior = {1: {\n",
    "    \"heuristic1-v0\": 1/4,\n",
    "    \"heuristic2-v0\": 1/4,\n",
    "    \"heuristic3-v0\": 1/4,\n",
    "    \"heuristic4-v0\": 1/4\n",
    "}}\n",
    "pw_values, policy_ids = plot_utils.get_pairwise_values(\n",
    "    combined_df,\n",
    "    y_key=\"episode_returns_mean\", \n",
    "    policy_key=\"policy_id\",\n",
    "    average_duplicates=True,\n",
    "    duplicate_warning=False\n",
    ")\n",
    "pw_err_values, _ = plot_utils.get_pairwise_values(\n",
    "    combined_df,\n",
    "    y_key=\"episode_returns_CI\", \n",
    "    policy_key=\"policy_id\",\n",
    "    average_duplicates=True,\n",
    "    duplicate_warning=False\n",
    ")\n",
    "\n",
    "expected_values = np.zeros(len(policy_ids))\n",
    "expected_err_values = np.zeros(len(policy_ids))\n",
    "for i, policy_id in enumerate(policy_ids):\n",
    "    value = 0.0\n",
    "    err_value = 0.0\n",
    "    for coplayer_policy_id, prob in policy_prior[1].items():\n",
    "        coplayer_idx = policy_ids.index(coplayer_policy_id)\n",
    "        value += pw_values[i][coplayer_idx] * prob\n",
    "        err_value += pw_err_values[i][coplayer_idx] * prob\n",
    "    expected_values[i] = value\n",
    "    expected_err_values[i] = err_value\n",
    "    \n",
    "\n",
    "for i, policy_id in enumerate(policy_ids):\n",
    "    value = expected_values[i]\n",
    "    err_value = expected_err_values[i]\n",
    "    print(f\"{policy_id} = {value:.2f} +/- {err_value:.2f}\")\n",
    "\n"
   ]
  }
 ],
 "metadata": {
  "kernelspec": {
   "display_name": "ba-posgmcp",
   "language": "python",
   "name": "ba-posgmcp"
  },
  "language_info": {
   "codemirror_mode": {
    "name": "ipython",
    "version": 3
   },
   "file_extension": ".py",
   "mimetype": "text/x-python",
   "name": "python",
   "nbconvert_exporter": "python",
   "pygments_lexer": "ipython3",
   "version": "3.8.13"
  }
 },
 "nbformat": 4,
 "nbformat_minor": 5
}
